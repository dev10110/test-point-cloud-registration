{
 "cells": [
  {
   "cell_type": "code",
   "execution_count": 3,
   "id": "6e23d0b3",
   "metadata": {},
   "outputs": [
    {
     "name": "stderr",
     "output_type": "stream",
     "text": [
      "\u001b[32m\u001b[1m    Updating\u001b[22m\u001b[39m registry at `~/.julia/registries/General.toml`\n",
      "\u001b[32m\u001b[1m   Resolving\u001b[22m\u001b[39m package versions...\n",
      "\u001b[32m\u001b[1m  No Changes\u001b[22m\u001b[39m to `~/.julia/environments/v1.7/Project.toml`\n",
      "\u001b[32m\u001b[1m  No Changes\u001b[22m\u001b[39m to `~/.julia/environments/v1.7/Manifest.toml`\n"
     ]
    }
   ],
   "source": [
    "] add LinearAlgebra"
   ]
  },
  {
   "cell_type": "code",
   "execution_count": 4,
   "id": "c3bc4ba8",
   "metadata": {},
   "outputs": [],
   "source": [
    "using LinearAlgebra"
   ]
  },
  {
   "cell_type": "code",
   "execution_count": 78,
   "id": "8dd01d0b",
   "metadata": {},
   "outputs": [
    {
     "data": {
      "text/plain": [
       "SDP_sol (generic function with 1 method)"
      ]
     },
     "execution_count": 78,
     "metadata": {},
     "output_type": "execute_result"
    }
   ],
   "source": [
    "function analytic_sol(Q)\n",
    "    vs = eigvecs(Q)\n",
    "    if vs[4,1] < 0\n",
    "        return -vs[:,1]\n",
    "    else\n",
    "        return vs[:,1]\n",
    "    end\n",
    "end\n",
    "\n",
    "function SDP_sol(Q)\n",
    "    \n",
    "    Z = Semidefinite(4)\n",
    "\n",
    "    cost = tr(Q * Z)\n",
    "\n",
    "    cons = [tr(Z) == 1, Z' == Z]\n",
    "\n",
    "    prob = minimize(cost, cons)\n",
    "\n",
    "    sol = solve!(prob, SCS.Optimizer; silent_solver=true)\n",
    "\n",
    "    Zval = Z.value\n",
    "    \n",
    "    U, S, V = svd(Zval)\n",
    "    \n",
    "    q_opt = U[:,1]\n",
    "    \n",
    "    if q_opt[4] < 0\n",
    "        return -q_opt\n",
    "    else\n",
    "        return q_opt\n",
    "    end\n",
    "end"
   ]
  },
  {
   "cell_type": "code",
   "execution_count": 84,
   "id": "0e1e1387",
   "metadata": {},
   "outputs": [
    {
     "name": "stdout",
     "output_type": "stream",
     "text": [
      "q_opt ≈ q_sdp = true\n",
      "q_opt ≈ q_sdp = true\n",
      "q_opt ≈ q_sdp = true\n",
      "q_opt ≈ q_sdp = true\n",
      "q_opt ≈ q_sdp = true\n",
      "q_opt ≈ q_sdp = true\n",
      "q_opt ≈ q_sdp = true\n",
      "q_opt ≈ q_sdp = true\n",
      "q_opt ≈ q_sdp = true\n",
      "q_opt ≈ q_sdp = true\n"
     ]
    }
   ],
   "source": [
    "for i=1:10\n",
    "    P = randn(4,4)\n",
    "    Q = Hermitian(P * P' +1e-2 * I)\n",
    "\n",
    "    q_opt = analytic_sol(Q)\n",
    "\n",
    "    q_sdp = SDP_sol(Q)\n",
    "\n",
    "    @show q_opt ≈ q_sdp\n",
    "end"
   ]
  },
  {
   "cell_type": "code",
   "execution_count": 85,
   "id": "4214b8c1",
   "metadata": {},
   "outputs": [
    {
     "data": {
      "text/plain": [
       "sdp (generic function with 1 method)"
      ]
     },
     "execution_count": 85,
     "metadata": {},
     "output_type": "execute_result"
    }
   ],
   "source": [
    "function analytic()\n",
    "    P = randn(4,4)\n",
    "    Q = Hermitian(P * P' +1e-2 * I)\n",
    "\n",
    "    q_opt = analytic_sol(Q)\n",
    "end\n",
    "\n",
    "function sdp()\n",
    "    P = randn(4,4)\n",
    "    Q = Hermitian(P * P' +1e-2 * I)\n",
    "\n",
    "    q_opt = SDP_sol(Q)\n",
    "end\n"
   ]
  },
  {
   "cell_type": "code",
   "execution_count": 86,
   "id": "3682d6ce",
   "metadata": {},
   "outputs": [],
   "source": [
    "\n",
    "using BenchmarkTools"
   ]
  },
  {
   "cell_type": "code",
   "execution_count": 87,
   "id": "d720ae5a",
   "metadata": {},
   "outputs": [
    {
     "name": "stdout",
     "output_type": "stream",
     "text": [
      "  8.406 μs (14 allocations: 3.05 KiB)\n"
     ]
    },
    {
     "data": {
      "text/plain": [
       "4-element Vector{Float64}:\n",
       " -0.21921661819247684\n",
       "  0.5315743063755078\n",
       " -0.7955622806738464\n",
       "  0.1909279672512113"
      ]
     },
     "execution_count": 87,
     "metadata": {},
     "output_type": "execute_result"
    }
   ],
   "source": [
    "@btime analytic()"
   ]
  },
  {
   "cell_type": "code",
   "execution_count": 88,
   "id": "ca16f0eb",
   "metadata": {},
   "outputs": [
    {
     "name": "stdout",
     "output_type": "stream",
     "text": [
      "  1.274 ms (3982 allocations: 222.52 KiB)\n"
     ]
    },
    {
     "data": {
      "text/plain": [
       "4-element Vector{Float64}:\n",
       " -0.6295428695364106\n",
       " -0.1551834987957694\n",
       "  0.7610783952316622\n",
       "  0.018802484648656873"
      ]
     },
     "execution_count": 88,
     "metadata": {},
     "output_type": "execute_result"
    }
   ],
   "source": [
    "@btime sdp()"
   ]
  },
  {
   "cell_type": "code",
   "execution_count": null,
   "id": "1a70340c",
   "metadata": {},
   "outputs": [],
   "source": []
  }
 ],
 "metadata": {
  "kernelspec": {
   "display_name": "Julia 1.7 Precompiled 1.7.2",
   "language": "julia",
   "name": "julia-1.7-precompiled-1.7"
  },
  "language_info": {
   "file_extension": ".jl",
   "mimetype": "application/julia",
   "name": "julia",
   "version": "1.7.2"
  }
 },
 "nbformat": 4,
 "nbformat_minor": 5
}
